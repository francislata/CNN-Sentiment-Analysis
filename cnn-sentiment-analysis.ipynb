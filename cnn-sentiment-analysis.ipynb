{
 "cells": [
  {
   "cell_type": "markdown",
   "metadata": {},
   "source": [
    "# CNN for Sentiment Analysis of Movie Reviews"
   ]
  },
  {
   "cell_type": "markdown",
   "metadata": {},
   "source": [
    "The idea of this project is to implement Yoon Kim's [paper](https://arxiv.org/abs/1408.5882) for using a convolutional neural network to classify the sentiment of movie reviews. In this paper, they have shown that even a simple convolutional neural network can achieve state of the art results, with a pretrained word embedding like **word2vec**."
   ]
  },
  {
   "cell_type": "markdown",
   "metadata": {},
   "source": [
    "My approach for this project is to incrementally build a CNN with randomly-initialized, non-static, word embeddings and work towards using a pre-trained word embedding. Once that's achieved, I am planning to add more \"channels\" (i.e., a static and non-static word embeddings) just like in Kim's paper."
   ]
  },
  {
   "cell_type": "markdown",
   "metadata": {},
   "source": [
    "## Setup"
   ]
  },
  {
   "cell_type": "markdown",
   "metadata": {},
   "source": [
    "In this notebook, I have similarly followed what Kim's paper setup under section *3.1: Hyperparameters and Training*. I have ensured that validation set is using 10% of the training dataset (since there is no dedicated validation set). Also, the batch size used is 50. All filters have the sizes between 3 to 5 with 100 channel outputs. \n",
    "\n",
    "The only difference is that I am using the model with the highest seen validation accuracy after running the specified amount of epochs. This is different from the idea that early stopping is employed in Kim's paper.\n",
    "\n",
    "Lastly, the **GloVe** word embeddings are used instead of **word2vec**."
   ]
  },
  {
   "cell_type": "markdown",
   "metadata": {},
   "source": [
    "## Imports"
   ]
  },
  {
   "cell_type": "markdown",
   "metadata": {},
   "source": [
    "There are several packages needed to be imported to get started."
   ]
  },
  {
   "cell_type": "code",
   "execution_count": 1,
   "metadata": {},
   "outputs": [
    {
     "name": "stderr",
     "output_type": "stream",
     "text": [
      "/home/paperspace/anaconda3/lib/python3.6/importlib/_bootstrap.py:219: RuntimeWarning: numpy.dtype size changed, may indicate binary incompatibility. Expected 96, got 88\n",
      "  return f(*args, **kwds)\n",
      "/home/paperspace/anaconda3/lib/python3.6/importlib/_bootstrap.py:219: RuntimeWarning: numpy.ufunc size changed, may indicate binary incompatibility. Expected 192, got 176\n",
      "  return f(*args, **kwds)\n"
     ]
    }
   ],
   "source": [
    "import torch\n",
    "import torch.nn as nn\n",
    "import torch.nn.functional as F\n",
    "import torch.optim as optim\n",
    "import torchtext\n",
    "from torchtext.datasets import IMDB\n",
    "from torchtext.data import BucketIterator\n",
    "from torchtext.data import Field, LabelField\n",
    "import torchwordemb\n",
    "import spacy\n",
    "import numpy as np\n",
    "from tqdm import tqdm_notebook\n",
    "import copy"
   ]
  },
  {
   "cell_type": "markdown",
   "metadata": {},
   "source": [
    "Note that `torchtext` makes the importing of our files much easier for the IMDB review dataset as it provides the `IMDB` class for us to work with. Similarly, integrating other datasets with `torchtext` is pretty straightforward."
   ]
  },
  {
   "cell_type": "markdown",
   "metadata": {},
   "source": [
    "## Dataset"
   ]
  },
  {
   "cell_type": "markdown",
   "metadata": {},
   "source": [
    "Several helper functions will be made for better organization of loading the IMDB movie reviews dataset."
   ]
  },
  {
   "cell_type": "code",
   "execution_count": 2,
   "metadata": {},
   "outputs": [],
   "source": [
    "def create_fields(input_tokenizer=\"spacy\"):\n",
    "    \"\"\"Creates the input and output fields for extracting the reviews and the labels\n",
    "    \n",
    "    Args:\n",
    "        input_tokenizer: The tokenizer to use for the input that is a supported tokenizer or custom function\n",
    "    \n",
    "    Returns:\n",
    "        The input and output fields to use\n",
    "    \"\"\"\n",
    "    input_field = Field(tokenize=input_tokenizer)\n",
    "    output_field = LabelField(tensor_type=torch.FloatTensor)\n",
    "    \n",
    "    return input_field, output_field"
   ]
  },
  {
   "cell_type": "code",
   "execution_count": 3,
   "metadata": {},
   "outputs": [],
   "source": [
    "def prepare_and_load_dataset(input_field, output_field, dataset_path=\".data\", validation_set_split_ratio=0.0, input_vectors_cache=\"vectors\", input_vectors=None):\n",
    "    \"\"\"Loads the dataset and builds the vocabularies and returns the appropriate datasets\n",
    "    \n",
    "    Args:\n",
    "        input_field: The input field to put the review for each example\n",
    "        output_field: The output field to put the label of each example onto\n",
    "        dataset_path: The path to extract and save the dataset to\n",
    "        validation_set_split_ratio: A ratio to split the training set into training and validation sets by\n",
    "        input_vectors_cache: The location to store the pre-trained word embeddings\n",
    "        input_vectors: The name of the pre-trained word embeddings to use\n",
    "        \n",
    "    Returns:\n",
    "        The training, optional validation, and test set iterators\n",
    "    \"\"\"\n",
    "    training_dataset, test_dataset = IMDB.splits(input_field, output_field, root=dataset_path)\n",
    "    if validation_set_split_ratio > 0.0:\n",
    "        training_dataset, validation_dataset = training_dataset.split(split_ratio=1.0 - validation_set_split_ratio)\n",
    "        \n",
    "    if input_vectors is None:\n",
    "        input_field.build_vocab(training_dataset)\n",
    "    else:\n",
    "        input_field.build_vocab(training_dataset, vectors=input_vectors, vectors_cache=input_vectors_cache)\n",
    "        \n",
    "    output_field.build_vocab(training_dataset)\n",
    "    \n",
    "    if validation_dataset is None:\n",
    "        return BucketIterator.splits((training_dataset, test_dataset), sort_key=lambda batch: IMDB.sort_key(batch), batch_size=50, repeat=False)\n",
    "    else:\n",
    "        return BucketIterator.splits((training_dataset, validation_dataset, test_dataset), sort_key=lambda batch: IMDB.sort_key(batch), batch_size=50, repeat=False)"
   ]
  },
  {
   "cell_type": "markdown",
   "metadata": {},
   "source": [
    "Note that `split_ratio` is the ratio of how much data goes to the training dataset. Hence, the `validation_set_split_ratio` must be subtracted from `1.0`."
   ]
  },
  {
   "cell_type": "markdown",
   "metadata": {},
   "source": [
    "Now, the dataset will be loaded into `dataset_path` and will build the vocabulary of the input and output fields."
   ]
  },
  {
   "cell_type": "code",
   "execution_count": 155,
   "metadata": {},
   "outputs": [],
   "source": [
    "input_field, output_field = create_fields()\n",
    "\n",
    "kwargs = {\"dataset_path\": \"data\", \"validation_set_split_ratio\": 0.1}\n",
    "training_dataset, validation_dataset, test_dataset = prepare_and_load_dataset(input_field, output_field, **kwargs)"
   ]
  },
  {
   "cell_type": "markdown",
   "metadata": {},
   "source": [
    "## Model training and evaluation"
   ]
  },
  {
   "cell_type": "markdown",
   "metadata": {},
   "source": [
    "Before starting with the different model architectures, it is ideal to setup our helper functions that I will be using to train, validate, and test our model architectures. Two functions will be made: one for training the model and one for evaluating the model's performance. Note that _accuracy_ is the metric that I will consider."
   ]
  },
  {
   "cell_type": "code",
   "execution_count": 4,
   "metadata": {},
   "outputs": [],
   "source": [
    "def run_model(model, loss_function, dataset, optimizer=None, is_training_model=True):\n",
    "    \"\"\"Runs the model given its dataset and using the loss function and optimizer\n",
    "    \n",
    "    Args:\n",
    "        model: The model to train\n",
    "        loss_function: The loss function to use\n",
    "        dataset: The dataset\n",
    "        optimizer: The optimizer to use when training the model\n",
    "        is_training_model: A flag indicating whether to run the model in training or evaluation mode\n",
    "        \n",
    "    Returns:\n",
    "        The average loss and accuracy for running through the dataset\n",
    "    \"\"\"\n",
    "    if is_training_model:\n",
    "        model.train()\n",
    "    else:\n",
    "        model.eval()\n",
    "        \n",
    "    accuracies = 0.0\n",
    "    losses = 0.0\n",
    "    \n",
    "    for example in tqdm_notebook(dataset):\n",
    "        if is_training_model:\n",
    "            model.zero_grad()\n",
    "        \n",
    "        inputs, targets = example.text, example.label\n",
    "        \n",
    "        predictions = model(inputs)\n",
    "        loss = loss_function(predictions, targets)\n",
    "        accuracy = calculate_accuracy(torch.sigmoid(predictions), targets)\n",
    "        \n",
    "        losses += loss.cpu().data.item()\n",
    "        accuracies += accuracy.cpu().data.item()\n",
    "        \n",
    "        if is_training_model:\n",
    "            loss.backward()\n",
    "            optimizer.step()\n",
    "            \n",
    "    return losses / len(dataset), accuracies / len(dataset)"
   ]
  },
  {
   "cell_type": "code",
   "execution_count": 5,
   "metadata": {},
   "outputs": [],
   "source": [
    "def calculate_accuracy(predictions, targets):\n",
    "    \"\"\"Calculates the accuracy given the predictions and targets\n",
    "    \n",
    "    Args:\n",
    "        predictions: The predictions made by the model\n",
    "        targets: The targets for the set of examples\n",
    "        \n",
    "    Returns:\n",
    "        The accuracy of the model\n",
    "    \"\"\"\n",
    "    return (predictions.round() == targets).float().mean()"
   ]
  },
  {
   "cell_type": "markdown",
   "metadata": {},
   "source": [
    "The `run_model()` function will handle both training and evaluation phases for every epoch. The last function that needs to be created is the one responsible for running the model for a certain amount of epochs. Note that this function employs the optimization of saving the best parameters with the highest validation accuracy across all epochs."
   ]
  },
  {
   "cell_type": "code",
   "execution_count": 6,
   "metadata": {},
   "outputs": [],
   "source": [
    "def train_evaluate_model(model, loss_function, optimizer, training_dataset, test_dataset, validation_dataset=None, num_epochs=5):\n",
    "    \"\"\"Trains and evaluates the given model\n",
    "    \n",
    "    Args:\n",
    "        model: The model to train and evaluate\n",
    "        loss_function: The loss function\n",
    "        optimizer: The optimizer to use when training the model\n",
    "        training_dataset: The dataset to use for training the model\n",
    "        test_dataset: The dataset to use for testing the model on unseen data\n",
    "        validation_dataset: The dataset to validate the model after training\n",
    "        num_epochs: The number of epochs to train and evaluate the model for\n",
    "    \"\"\"\n",
    "    \n",
    "    if torch.cuda.is_available():\n",
    "        model = model.cuda()\n",
    "        \n",
    "    best_model_weights = copy.deepcopy(model.state_dict())\n",
    "    best_valid_accuracy = 0.0\n",
    "        \n",
    "    for epoch in range(1, num_epochs + 1):\n",
    "        training_loss, training_accuracy = run_model(model, loss_function, training_dataset, optimizer=optimizer)\n",
    "        \n",
    "        print(\"[Training - Epoch {}] Loss: {:.2f}\".format(epoch, training_loss))\n",
    "        print(\"[Training - Epoch {}] Accuracy: {:.2f}\".format(epoch, training_accuracy))\n",
    "        \n",
    "        if validation_dataset is not None:\n",
    "            validation_loss, validation_accuracy = run_model(model, loss_function, validation_dataset, is_training_model=False)\n",
    "            \n",
    "            print(\"[Validation - Epoch {}] Loss: {:.2f}\".format(epoch, validation_loss))\n",
    "            print(\"[Validation - Epoch {}] Accuracy: {:.2f}\".format(epoch, validation_accuracy))\n",
    "            \n",
    "            if validation_accuracy > best_valid_accuracy:\n",
    "                best_valid_accuracy = validation_accuracy\n",
    "                best_model_weights = copy.deepcopy(model.state_dict())\n",
    "            \n",
    "    model.load_state_dict(best_model_weights)\n",
    "    \n",
    "    test_loss, test_accuracy = run_model(model, loss_function, test_dataset, is_training_model=False)\n",
    "    \n",
    "    print(\"[Test] Loss: {:.2f}\".format(test_loss))\n",
    "    print(\"[Test] Accuracy: {:.2f}\".format(test_accuracy))"
   ]
  },
  {
   "cell_type": "markdown",
   "metadata": {},
   "source": [
    "## Model 1: CNNRand"
   ]
  },
  {
   "cell_type": "markdown",
   "metadata": {},
   "source": [
    "In this model, I am going to create a convolutional neural network where the embeddings used for each word in every review is randomly initialized and will be learned during training. This is a baseline model that I am going to build upon. In particular, I am going to use the following layers: `Embedding, Conv2d, MaxPool1d, Linear, Dropout`."
   ]
  },
  {
   "cell_type": "code",
   "execution_count": 104,
   "metadata": {},
   "outputs": [],
   "source": [
    "class CNNRand(nn.Module):\n",
    "    def __init__(self, num_vocab, embedding_dim, channel_out, filter_sizes, num_output, dropout_prob):\n",
    "        super(CNNRand, self).__init__()\n",
    "        \n",
    "        self.embedding = nn.Embedding(num_vocab, embedding_dim)\n",
    "        self.convs = nn.ModuleList([nn.Conv2d(1, channel_out, filter_sizes[i]) for i in range(len(filter_sizes))])\n",
    "        self.fc = nn.Linear(len(filter_sizes) * channel_out, num_output)\n",
    "        self.dropout = nn.Dropout(dropout_prob)\n",
    "    \n",
    "    def forward(self, x):\n",
    "        x = x.t()\n",
    "        \n",
    "        x = self.embedding(x).unsqueeze(1)\n",
    "        x_convs = [F.relu(conv(x)).squeeze(3) for conv in self.convs]\n",
    "        x_pools = [F.max_pool1d(x_conv, x_conv.size(2)).squeeze(2) for x_conv in x_convs]\n",
    "        x_cat = self.dropout(torch.cat(x_pools, 1))\n",
    "        x_fc = self.fc(x_cat).squeeze(1)\n",
    "        \n",
    "        return x_fc"
   ]
  },
  {
   "cell_type": "markdown",
   "metadata": {},
   "source": [
    "### Training and evaluation"
   ]
  },
  {
   "cell_type": "markdown",
   "metadata": {},
   "source": [
    "These are the values that we will be using as arguments to this model:"
   ]
  },
  {
   "cell_type": "code",
   "execution_count": 161,
   "metadata": {},
   "outputs": [],
   "source": [
    "EMBEDDING_DIM = 50\n",
    "CHANNEL_OUT = 100\n",
    "FILTER_SIZES = [(i, EMBEDDING_DIM) for i in range(3, 6)]\n",
    "NUM_OUTPUT = 1\n",
    "DROPOUT_PROB = 0.5"
   ]
  },
  {
   "cell_type": "code",
   "execution_count": 162,
   "metadata": {},
   "outputs": [],
   "source": [
    "args = [len(input_field.vocab), EMBEDDING_DIM, CHANNEL_OUT, FILTER_SIZES, NUM_OUTPUT, DROPOUT_PROB]\n",
    "cnn_rand = CNNRand(*args)"
   ]
  },
  {
   "cell_type": "markdown",
   "metadata": {},
   "source": [
    "The loss function that will be used is `BCEWithLogitsLoss` and the optimizer used is `Adam`."
   ]
  },
  {
   "cell_type": "code",
   "execution_count": 163,
   "metadata": {},
   "outputs": [],
   "source": [
    "loss_function = nn.BCEWithLogitsLoss()\n",
    "optimizer = optim.Adam(cnn_rand.parameters())"
   ]
  },
  {
   "cell_type": "markdown",
   "metadata": {},
   "source": [
    "Now the `CNNRand` model is going to be trained and evaluated."
   ]
  },
  {
   "cell_type": "code",
   "execution_count": 164,
   "metadata": {},
   "outputs": [
    {
     "data": {
      "application/vnd.jupyter.widget-view+json": {
       "model_id": "183b99dc8bd24cfcb8e06ae19090c72c",
       "version_major": 2,
       "version_minor": 0
      },
      "text/plain": [
       "HBox(children=(IntProgress(value=0, max=450), HTML(value='')))"
      ]
     },
     "metadata": {},
     "output_type": "display_data"
    },
    {
     "name": "stdout",
     "output_type": "stream",
     "text": [
      "[Training - Epoch 1] Loss: 0.67\n",
      "[Training - Epoch 1] Accuracy: 0.60\n"
     ]
    },
    {
     "data": {
      "application/vnd.jupyter.widget-view+json": {
       "model_id": "de763bcafc19428c969c8774f514b39a",
       "version_major": 2,
       "version_minor": 0
      },
      "text/plain": [
       "HBox(children=(IntProgress(value=0, max=50), HTML(value='')))"
      ]
     },
     "metadata": {},
     "output_type": "display_data"
    },
    {
     "name": "stderr",
     "output_type": "stream",
     "text": [
      "/home/paperspace/anaconda3/lib/python3.6/site-packages/torchtext/data/field.py:322: UserWarning: volatile was removed and now has no effect. Use `with torch.no_grad():` instead.\n",
      "  return Variable(arr, volatile=not train)\n"
     ]
    },
    {
     "name": "stdout",
     "output_type": "stream",
     "text": [
      "[Validation - Epoch 1] Loss: 0.52\n",
      "[Validation - Epoch 1] Accuracy: 0.77\n"
     ]
    },
    {
     "data": {
      "application/vnd.jupyter.widget-view+json": {
       "model_id": "13329b7dc4714238a17f9a0d0cd6743d",
       "version_major": 2,
       "version_minor": 0
      },
      "text/plain": [
       "HBox(children=(IntProgress(value=0, max=450), HTML(value='')))"
      ]
     },
     "metadata": {},
     "output_type": "display_data"
    },
    {
     "name": "stdout",
     "output_type": "stream",
     "text": [
      "[Training - Epoch 2] Loss: 0.53\n",
      "[Training - Epoch 2] Accuracy: 0.74\n"
     ]
    },
    {
     "data": {
      "application/vnd.jupyter.widget-view+json": {
       "model_id": "d88f26121d7f4a2796caa232a8409d65",
       "version_major": 2,
       "version_minor": 0
      },
      "text/plain": [
       "HBox(children=(IntProgress(value=0, max=50), HTML(value='')))"
      ]
     },
     "metadata": {},
     "output_type": "display_data"
    },
    {
     "name": "stdout",
     "output_type": "stream",
     "text": [
      "[Validation - Epoch 2] Loss: 0.46\n",
      "[Validation - Epoch 2] Accuracy: 0.77\n"
     ]
    },
    {
     "data": {
      "application/vnd.jupyter.widget-view+json": {
       "model_id": "0f344e2b912b452eaf02307636f6e5cd",
       "version_major": 2,
       "version_minor": 0
      },
      "text/plain": [
       "HBox(children=(IntProgress(value=0, max=450), HTML(value='')))"
      ]
     },
     "metadata": {},
     "output_type": "display_data"
    },
    {
     "name": "stdout",
     "output_type": "stream",
     "text": [
      "[Training - Epoch 3] Loss: 0.46\n",
      "[Training - Epoch 3] Accuracy: 0.78\n"
     ]
    },
    {
     "data": {
      "application/vnd.jupyter.widget-view+json": {
       "model_id": "661ab0522bf24869884810814b7d1747",
       "version_major": 2,
       "version_minor": 0
      },
      "text/plain": [
       "HBox(children=(IntProgress(value=0, max=50), HTML(value='')))"
      ]
     },
     "metadata": {},
     "output_type": "display_data"
    },
    {
     "name": "stdout",
     "output_type": "stream",
     "text": [
      "[Validation - Epoch 3] Loss: 0.38\n",
      "[Validation - Epoch 3] Accuracy: 0.83\n"
     ]
    },
    {
     "data": {
      "application/vnd.jupyter.widget-view+json": {
       "model_id": "2248d703214b4cbcad957189b7f4b851",
       "version_major": 2,
       "version_minor": 0
      },
      "text/plain": [
       "HBox(children=(IntProgress(value=0, max=450), HTML(value='')))"
      ]
     },
     "metadata": {},
     "output_type": "display_data"
    },
    {
     "name": "stdout",
     "output_type": "stream",
     "text": [
      "[Training - Epoch 4] Loss: 0.40\n",
      "[Training - Epoch 4] Accuracy: 0.82\n"
     ]
    },
    {
     "data": {
      "application/vnd.jupyter.widget-view+json": {
       "model_id": "4a719b72dfce4e89b175f5bd3309097e",
       "version_major": 2,
       "version_minor": 0
      },
      "text/plain": [
       "HBox(children=(IntProgress(value=0, max=50), HTML(value='')))"
      ]
     },
     "metadata": {},
     "output_type": "display_data"
    },
    {
     "name": "stdout",
     "output_type": "stream",
     "text": [
      "[Validation - Epoch 4] Loss: 0.34\n",
      "[Validation - Epoch 4] Accuracy: 0.85\n"
     ]
    },
    {
     "data": {
      "application/vnd.jupyter.widget-view+json": {
       "model_id": "28946bcab3cd40718d03653a82fa94df",
       "version_major": 2,
       "version_minor": 0
      },
      "text/plain": [
       "HBox(children=(IntProgress(value=0, max=450), HTML(value='')))"
      ]
     },
     "metadata": {},
     "output_type": "display_data"
    },
    {
     "name": "stdout",
     "output_type": "stream",
     "text": [
      "[Training - Epoch 5] Loss: 0.34\n",
      "[Training - Epoch 5] Accuracy: 0.85\n"
     ]
    },
    {
     "data": {
      "application/vnd.jupyter.widget-view+json": {
       "model_id": "ed66070870864163a8b936475326243b",
       "version_major": 2,
       "version_minor": 0
      },
      "text/plain": [
       "HBox(children=(IntProgress(value=0, max=50), HTML(value='')))"
      ]
     },
     "metadata": {},
     "output_type": "display_data"
    },
    {
     "name": "stdout",
     "output_type": "stream",
     "text": [
      "[Validation - Epoch 5] Loss: 0.31\n",
      "[Validation - Epoch 5] Accuracy: 0.86\n"
     ]
    },
    {
     "data": {
      "application/vnd.jupyter.widget-view+json": {
       "model_id": "fd3ff866785d4581b6d48b92671cf7b4",
       "version_major": 2,
       "version_minor": 0
      },
      "text/plain": [
       "HBox(children=(IntProgress(value=0, max=500), HTML(value='')))"
      ]
     },
     "metadata": {},
     "output_type": "display_data"
    },
    {
     "name": "stdout",
     "output_type": "stream",
     "text": [
      "[Test] Loss: 0.32\n",
      "[Test] Accuracy: 0.86\n"
     ]
    }
   ],
   "source": [
    "train_evaluate_model(cnn_rand, loss_function, optimizer, training_dataset, test_dataset, validation_dataset=validation_dataset)"
   ]
  },
  {
   "cell_type": "markdown",
   "metadata": {},
   "source": [
    "### Results"
   ]
  },
  {
   "cell_type": "markdown",
   "metadata": {},
   "source": [
    "After trying out multiple filter sizes, this model has reached approximately 86% accuracy in the test set.\n",
    "\n",
    "Multiple filter sizes are not able to find the most important words that determine whether a movie review has a positive or negative sentiment. This is due to the randomly-initialized embedding matrix that is learned during training - which provides no information about each word in a sentence. I expect that using a pre-trained word embedding, like word2vec or GloVe, should give the model more information about the words and be able to detect the most important words for sentiment analysis.\n",
    "\n",
    "Finally, it is ideal to note that training and evaluating a CNN for sentiment classification is much faster than an RNN and that the accuracy is achieved in less than 10 epochs, based from my exploration in [here](https://gitlab.com/bigbawsboy/IMDB-sentiment-analysis)."
   ]
  },
  {
   "cell_type": "markdown",
   "metadata": {},
   "source": [
    "## Model 2: CNNStatic"
   ]
  },
  {
   "cell_type": "markdown",
   "metadata": {},
   "source": [
    "In this model, the `Embedding` layer will use the weights from a pre-trained word embedding. In particular, I will be using GloVe: a 100 dimension word embedding. This model is static because the embedding layer will not update its parameters during training while the rest of the layers will update their parameters.\n",
    "\n",
    "In order to support pre-trained word embeddings, the `create_fields()` function has been modified to accept a name of one of the supported pre-trained word embeddings and the directory to download the embeddings at."
   ]
  },
  {
   "cell_type": "code",
   "execution_count": 8,
   "metadata": {},
   "outputs": [
    {
     "name": "stderr",
     "output_type": "stream",
     "text": [
      "/home/paperspace/anaconda3/lib/python3.6/importlib/_bootstrap.py:219: RuntimeWarning: numpy.dtype size changed, may indicate binary incompatibility. Expected 96, got 88\n",
      "  return f(*args, **kwds)\n",
      "/home/paperspace/anaconda3/lib/python3.6/importlib/_bootstrap.py:219: RuntimeWarning: numpy.ufunc size changed, may indicate binary incompatibility. Expected 192, got 176\n",
      "  return f(*args, **kwds)\n"
     ]
    }
   ],
   "source": [
    "input_field, output_field = create_fields()\n",
    "\n",
    "kwargs = {\"dataset_path\": \"data\", \"validation_set_split_ratio\": 0.1, \"input_vectors_cache\": \"vectors\", \"input_vectors\": \"glove.6B.100d\"}\n",
    "training_dataset, validation_dataset, test_dataset = prepare_and_load_dataset(input_field, output_field, **kwargs)"
   ]
  },
  {
   "cell_type": "markdown",
   "metadata": {},
   "source": [
    "Here is the implementation of the model."
   ]
  },
  {
   "cell_type": "code",
   "execution_count": 125,
   "metadata": {},
   "outputs": [],
   "source": [
    "class CNNStatic(nn.Module):\n",
    "    def __init__(self, embedding_weights, num_vocab, embedding_dim, channel_out, filter_sizes, num_output, dropout_prob):\n",
    "        super(CNNStatic, self).__init__()\n",
    "        \n",
    "        self.embedding = nn.Embedding(num_vocab, embedding_dim)\n",
    "        self.embedding.weight.data.copy_(embedding_weights)\n",
    "        self.embedding.requires_grad = False\n",
    "        \n",
    "        self.convs = nn.ModuleList([nn.Conv2d(1, channel_out, filter_sizes[i]) for i in range(len(filter_sizes))])\n",
    "        self.fc = nn.Linear(len(filter_sizes) * channel_out, num_output)\n",
    "        self.dropout = nn.Dropout(dropout_prob)\n",
    "    \n",
    "    def forward(self, x):\n",
    "        x = x.t()\n",
    "        \n",
    "        x = self.embedding(x).unsqueeze(1)\n",
    "        x_convs = [F.relu(conv(x)).squeeze(3) for conv in self.convs]\n",
    "        x_pools = [F.max_pool1d(x_conv, x_conv.size(2)).squeeze(2) for x_conv in x_convs]\n",
    "        x_cat = self.dropout(torch.cat(x_pools, 1))\n",
    "        x_fc = self.fc(x_cat).squeeze(1)\n",
    "        \n",
    "        return x_fc"
   ]
  },
  {
   "cell_type": "markdown",
   "metadata": {},
   "source": [
    "### Training and evaluation"
   ]
  },
  {
   "cell_type": "markdown",
   "metadata": {},
   "source": [
    "The hyperparameters used for this model are as follows:"
   ]
  },
  {
   "cell_type": "code",
   "execution_count": 9,
   "metadata": {},
   "outputs": [],
   "source": [
    "EMBEDDING_WEIGHTS = input_field.vocab.vectors\n",
    "NUM_VOCAB = EMBEDDING_WEIGHTS.size(0)\n",
    "EMBEDDING_DIM = EMBEDDING_WEIGHTS.size(1)\n",
    "CHANNEL_OUT = 100\n",
    "FILTER_SIZES = [(i, EMBEDDING_DIM) for i in range(3, 6)]\n",
    "NUM_OUTPUT = 1\n",
    "DROPOUT_PROB = 0.5"
   ]
  },
  {
   "cell_type": "markdown",
   "metadata": {},
   "source": [
    "Note that most of the hyperparameters are the same except for the embedding weights and its dimensions."
   ]
  },
  {
   "cell_type": "code",
   "execution_count": 13,
   "metadata": {},
   "outputs": [],
   "source": [
    "args = [EMBEDDING_WEIGHTS, NUM_VOCAB, EMBEDDING_DIM, CHANNEL_OUT, FILTER_SIZES, NUM_OUTPUT, DROPOUT_PROB]"
   ]
  },
  {
   "cell_type": "code",
   "execution_count": 150,
   "metadata": {},
   "outputs": [
    {
     "data": {
      "application/vnd.jupyter.widget-view+json": {
       "model_id": "b16ef4bbe50045b2a139df7e0007030b",
       "version_major": 2,
       "version_minor": 0
      },
      "text/plain": [
       "HBox(children=(IntProgress(value=0, max=450), HTML(value='')))"
      ]
     },
     "metadata": {},
     "output_type": "display_data"
    },
    {
     "name": "stdout",
     "output_type": "stream",
     "text": [
      "[Training - Epoch 1] Loss: 0.46\n",
      "[Training - Epoch 1] Accuracy: 0.78\n"
     ]
    },
    {
     "data": {
      "application/vnd.jupyter.widget-view+json": {
       "model_id": "638a8b1eeb5b40c6b52ee6b444110e54",
       "version_major": 2,
       "version_minor": 0
      },
      "text/plain": [
       "HBox(children=(IntProgress(value=0, max=50), HTML(value='')))"
      ]
     },
     "metadata": {},
     "output_type": "display_data"
    },
    {
     "name": "stderr",
     "output_type": "stream",
     "text": [
      "/home/paperspace/anaconda3/lib/python3.6/site-packages/torchtext/data/field.py:322: UserWarning: volatile was removed and now has no effect. Use `with torch.no_grad():` instead.\n",
      "  return Variable(arr, volatile=not train)\n"
     ]
    },
    {
     "name": "stdout",
     "output_type": "stream",
     "text": [
      "[Validation - Epoch 1] Loss: 0.32\n",
      "[Validation - Epoch 1] Accuracy: 0.87\n"
     ]
    },
    {
     "data": {
      "application/vnd.jupyter.widget-view+json": {
       "model_id": "f471ad66357a4187be8c7b51b90e2250",
       "version_major": 2,
       "version_minor": 0
      },
      "text/plain": [
       "HBox(children=(IntProgress(value=0, max=450), HTML(value='')))"
      ]
     },
     "metadata": {},
     "output_type": "display_data"
    },
    {
     "name": "stdout",
     "output_type": "stream",
     "text": [
      "[Training - Epoch 2] Loss: 0.27\n",
      "[Training - Epoch 2] Accuracy: 0.89\n"
     ]
    },
    {
     "data": {
      "application/vnd.jupyter.widget-view+json": {
       "model_id": "b20642ef78fd482f83c94ac2eedd38f4",
       "version_major": 2,
       "version_minor": 0
      },
      "text/plain": [
       "HBox(children=(IntProgress(value=0, max=50), HTML(value='')))"
      ]
     },
     "metadata": {},
     "output_type": "display_data"
    },
    {
     "name": "stdout",
     "output_type": "stream",
     "text": [
      "[Validation - Epoch 2] Loss: 0.26\n",
      "[Validation - Epoch 2] Accuracy: 0.89\n"
     ]
    },
    {
     "data": {
      "application/vnd.jupyter.widget-view+json": {
       "model_id": "65b425153ec74af2bef5dba5a3843b73",
       "version_major": 2,
       "version_minor": 0
      },
      "text/plain": [
       "HBox(children=(IntProgress(value=0, max=450), HTML(value='')))"
      ]
     },
     "metadata": {},
     "output_type": "display_data"
    },
    {
     "name": "stdout",
     "output_type": "stream",
     "text": [
      "[Training - Epoch 3] Loss: 0.17\n",
      "[Training - Epoch 3] Accuracy: 0.94\n"
     ]
    },
    {
     "data": {
      "application/vnd.jupyter.widget-view+json": {
       "model_id": "1d85da43e6bf41b1a570c0d9c4f83377",
       "version_major": 2,
       "version_minor": 0
      },
      "text/plain": [
       "HBox(children=(IntProgress(value=0, max=50), HTML(value='')))"
      ]
     },
     "metadata": {},
     "output_type": "display_data"
    },
    {
     "name": "stdout",
     "output_type": "stream",
     "text": [
      "[Validation - Epoch 3] Loss: 0.26\n",
      "[Validation - Epoch 3] Accuracy: 0.89\n"
     ]
    },
    {
     "data": {
      "application/vnd.jupyter.widget-view+json": {
       "model_id": "d07459f7bc8f4d6c8203d40fad8d13b6",
       "version_major": 2,
       "version_minor": 0
      },
      "text/plain": [
       "HBox(children=(IntProgress(value=0, max=450), HTML(value='')))"
      ]
     },
     "metadata": {},
     "output_type": "display_data"
    },
    {
     "name": "stdout",
     "output_type": "stream",
     "text": [
      "[Training - Epoch 4] Loss: 0.08\n",
      "[Training - Epoch 4] Accuracy: 0.97\n"
     ]
    },
    {
     "data": {
      "application/vnd.jupyter.widget-view+json": {
       "model_id": "f51572fdd7714ddd85f21e71d7c10017",
       "version_major": 2,
       "version_minor": 0
      },
      "text/plain": [
       "HBox(children=(IntProgress(value=0, max=50), HTML(value='')))"
      ]
     },
     "metadata": {},
     "output_type": "display_data"
    },
    {
     "name": "stdout",
     "output_type": "stream",
     "text": [
      "[Validation - Epoch 4] Loss: 0.29\n",
      "[Validation - Epoch 4] Accuracy: 0.90\n"
     ]
    },
    {
     "data": {
      "application/vnd.jupyter.widget-view+json": {
       "model_id": "3a67326129664353b99ea1957b05ce1d",
       "version_major": 2,
       "version_minor": 0
      },
      "text/plain": [
       "HBox(children=(IntProgress(value=0, max=450), HTML(value='')))"
      ]
     },
     "metadata": {},
     "output_type": "display_data"
    },
    {
     "name": "stdout",
     "output_type": "stream",
     "text": [
      "[Training - Epoch 5] Loss: 0.04\n",
      "[Training - Epoch 5] Accuracy: 0.99\n"
     ]
    },
    {
     "data": {
      "application/vnd.jupyter.widget-view+json": {
       "model_id": "c0cde29d5bc04336b9e21383b3123929",
       "version_major": 2,
       "version_minor": 0
      },
      "text/plain": [
       "HBox(children=(IntProgress(value=0, max=50), HTML(value='')))"
      ]
     },
     "metadata": {},
     "output_type": "display_data"
    },
    {
     "name": "stdout",
     "output_type": "stream",
     "text": [
      "[Validation - Epoch 5] Loss: 0.32\n",
      "[Validation - Epoch 5] Accuracy: 0.90\n"
     ]
    },
    {
     "data": {
      "application/vnd.jupyter.widget-view+json": {
       "model_id": "c62c39a745d848b7b5e2693edd50158a",
       "version_major": 2,
       "version_minor": 0
      },
      "text/plain": [
       "HBox(children=(IntProgress(value=0, max=500), HTML(value='')))"
      ]
     },
     "metadata": {},
     "output_type": "display_data"
    },
    {
     "name": "stdout",
     "output_type": "stream",
     "text": [
      "[Test] Loss: 0.38\n",
      "[Test] Accuracy: 0.87\n"
     ]
    }
   ],
   "source": [
    "cnn_static = CNNStatic(*args)\n",
    "\n",
    "loss_function = nn.BCEWithLogitsLoss()\n",
    "optimizer = optim.Adam(cnn_static.parameters())\n",
    "\n",
    "train_evaluate_model(cnn_static, loss_function, optimizer, training_dataset, test_dataset, validation_dataset=validation_dataset)"
   ]
  },
  {
   "cell_type": "markdown",
   "metadata": {},
   "source": [
    "### Results"
   ]
  },
  {
   "cell_type": "markdown",
   "metadata": {},
   "source": [
    "After 5 epochs, this model is able to achieve an accuracy of 87% on the test set. I have used the same number of filter sizes as in the `CNNRand` model. Note that since the `Embedding` layer's parameters have not been learned during training, it could not adjust its information accordingly based on the context from the training dataset.\n",
    "\n",
    "By allowing the `Embedding` layer to adjust its parameters to learn more about the context of words in each example in the training dataset, the accuracy should increase much more."
   ]
  },
  {
   "cell_type": "markdown",
   "metadata": {},
   "source": [
    "## Model 3: CNNNonStatic"
   ]
  },
  {
   "cell_type": "markdown",
   "metadata": {},
   "source": [
    "In this model, the `Embedding` layer will adjust its parameters during the training phase of the model. The model architecture still stays the same. As a result, I will subclass the `CNNStatic` class and set `requires_grad` to `True`. Another approach to making this change is to change the initializer to accept a `embedding_requires_grad` and its value will be used when setting the property to the `Embedding` layer. However, I am going with the former solution to have a clear distinction between `CNNStatic` and `CNNNonStatic`."
   ]
  },
  {
   "cell_type": "code",
   "execution_count": 131,
   "metadata": {},
   "outputs": [],
   "source": [
    "class CNNNonStatic(CNNStatic):\n",
    "    def __init__(self, embedding_weights, num_vocab, embedding_dim, channel_out, filter_sizes, num_output, dropout_prob):\n",
    "        super(CNNNonStatic, self).__init__(embedding_weights, num_vocab, embedding_dim, channel_out, filter_sizes, num_output, dropout_prob)\n",
    "        \n",
    "        self.embedding.requires_grad = True\n",
    "        \n",
    "    def forward(self, x):\n",
    "        return super().forward(x)"
   ]
  },
  {
   "cell_type": "code",
   "execution_count": 151,
   "metadata": {},
   "outputs": [
    {
     "data": {
      "application/vnd.jupyter.widget-view+json": {
       "model_id": "412d454a55d44ff59207e34fea2c12ff",
       "version_major": 2,
       "version_minor": 0
      },
      "text/plain": [
       "HBox(children=(IntProgress(value=0, max=450), HTML(value='')))"
      ]
     },
     "metadata": {},
     "output_type": "display_data"
    },
    {
     "name": "stdout",
     "output_type": "stream",
     "text": [
      "[Training - Epoch 1] Loss: 0.46\n",
      "[Training - Epoch 1] Accuracy: 0.77\n"
     ]
    },
    {
     "data": {
      "application/vnd.jupyter.widget-view+json": {
       "model_id": "67b3e28dd24149ae8133743d9ebb6d38",
       "version_major": 2,
       "version_minor": 0
      },
      "text/plain": [
       "HBox(children=(IntProgress(value=0, max=50), HTML(value='')))"
      ]
     },
     "metadata": {},
     "output_type": "display_data"
    },
    {
     "name": "stderr",
     "output_type": "stream",
     "text": [
      "/home/paperspace/anaconda3/lib/python3.6/site-packages/torchtext/data/field.py:322: UserWarning: volatile was removed and now has no effect. Use `with torch.no_grad():` instead.\n",
      "  return Variable(arr, volatile=not train)\n"
     ]
    },
    {
     "name": "stdout",
     "output_type": "stream",
     "text": [
      "[Validation - Epoch 1] Loss: 0.30\n",
      "[Validation - Epoch 1] Accuracy: 0.87\n"
     ]
    },
    {
     "data": {
      "application/vnd.jupyter.widget-view+json": {
       "model_id": "ea4c3f9663214d2aa3a16da6697d7261",
       "version_major": 2,
       "version_minor": 0
      },
      "text/plain": [
       "HBox(children=(IntProgress(value=0, max=450), HTML(value='')))"
      ]
     },
     "metadata": {},
     "output_type": "display_data"
    },
    {
     "name": "stdout",
     "output_type": "stream",
     "text": [
      "[Training - Epoch 2] Loss: 0.27\n",
      "[Training - Epoch 2] Accuracy: 0.89\n"
     ]
    },
    {
     "data": {
      "application/vnd.jupyter.widget-view+json": {
       "model_id": "d006b61a86164c088938596d2a61bb4c",
       "version_major": 2,
       "version_minor": 0
      },
      "text/plain": [
       "HBox(children=(IntProgress(value=0, max=50), HTML(value='')))"
      ]
     },
     "metadata": {},
     "output_type": "display_data"
    },
    {
     "name": "stdout",
     "output_type": "stream",
     "text": [
      "[Validation - Epoch 2] Loss: 0.26\n",
      "[Validation - Epoch 2] Accuracy: 0.89\n"
     ]
    },
    {
     "data": {
      "application/vnd.jupyter.widget-view+json": {
       "model_id": "5568820cd32f4937892be55c51af1eb2",
       "version_major": 2,
       "version_minor": 0
      },
      "text/plain": [
       "HBox(children=(IntProgress(value=0, max=450), HTML(value='')))"
      ]
     },
     "metadata": {},
     "output_type": "display_data"
    },
    {
     "name": "stdout",
     "output_type": "stream",
     "text": [
      "[Training - Epoch 3] Loss: 0.17\n",
      "[Training - Epoch 3] Accuracy: 0.94\n"
     ]
    },
    {
     "data": {
      "application/vnd.jupyter.widget-view+json": {
       "model_id": "f183123f0c9340b8b61fc8d52ead739a",
       "version_major": 2,
       "version_minor": 0
      },
      "text/plain": [
       "HBox(children=(IntProgress(value=0, max=50), HTML(value='')))"
      ]
     },
     "metadata": {},
     "output_type": "display_data"
    },
    {
     "name": "stdout",
     "output_type": "stream",
     "text": [
      "[Validation - Epoch 3] Loss: 0.25\n",
      "[Validation - Epoch 3] Accuracy: 0.90\n"
     ]
    },
    {
     "data": {
      "application/vnd.jupyter.widget-view+json": {
       "model_id": "f3bbeccff60d446987a92654b8b21df9",
       "version_major": 2,
       "version_minor": 0
      },
      "text/plain": [
       "HBox(children=(IntProgress(value=0, max=450), HTML(value='')))"
      ]
     },
     "metadata": {},
     "output_type": "display_data"
    },
    {
     "name": "stdout",
     "output_type": "stream",
     "text": [
      "[Training - Epoch 4] Loss: 0.08\n",
      "[Training - Epoch 4] Accuracy: 0.97\n"
     ]
    },
    {
     "data": {
      "application/vnd.jupyter.widget-view+json": {
       "model_id": "376fd4518d6e43c692fb206d44476afd",
       "version_major": 2,
       "version_minor": 0
      },
      "text/plain": [
       "HBox(children=(IntProgress(value=0, max=50), HTML(value='')))"
      ]
     },
     "metadata": {},
     "output_type": "display_data"
    },
    {
     "name": "stdout",
     "output_type": "stream",
     "text": [
      "[Validation - Epoch 4] Loss: 0.29\n",
      "[Validation - Epoch 4] Accuracy: 0.89\n"
     ]
    },
    {
     "data": {
      "application/vnd.jupyter.widget-view+json": {
       "model_id": "74c76bc42d9147d8b5cc0a16a34b476d",
       "version_major": 2,
       "version_minor": 0
      },
      "text/plain": [
       "HBox(children=(IntProgress(value=0, max=450), HTML(value='')))"
      ]
     },
     "metadata": {},
     "output_type": "display_data"
    },
    {
     "name": "stdout",
     "output_type": "stream",
     "text": [
      "[Training - Epoch 5] Loss: 0.04\n",
      "[Training - Epoch 5] Accuracy: 0.99\n"
     ]
    },
    {
     "data": {
      "application/vnd.jupyter.widget-view+json": {
       "model_id": "0435393ffb7946f1bf419971d95b7a56",
       "version_major": 2,
       "version_minor": 0
      },
      "text/plain": [
       "HBox(children=(IntProgress(value=0, max=50), HTML(value='')))"
      ]
     },
     "metadata": {},
     "output_type": "display_data"
    },
    {
     "name": "stdout",
     "output_type": "stream",
     "text": [
      "[Validation - Epoch 5] Loss: 0.31\n",
      "[Validation - Epoch 5] Accuracy: 0.90\n"
     ]
    },
    {
     "data": {
      "application/vnd.jupyter.widget-view+json": {
       "model_id": "8fff1b3007b9438a852a6d7340803d7b",
       "version_major": 2,
       "version_minor": 0
      },
      "text/plain": [
       "HBox(children=(IntProgress(value=0, max=500), HTML(value='')))"
      ]
     },
     "metadata": {},
     "output_type": "display_data"
    },
    {
     "name": "stdout",
     "output_type": "stream",
     "text": [
      "[Test] Loss: 0.28\n",
      "[Test] Accuracy: 0.89\n"
     ]
    }
   ],
   "source": [
    "cnn_non_static = CNNNonStatic(*args)\n",
    "\n",
    "loss_function = nn.BCEWithLogitsLoss()\n",
    "optimizer = optim.Adam(cnn_non_static.parameters())\n",
    "\n",
    "train_evaluate_model(cnn_non_static, loss_function, optimizer, training_dataset, test_dataset, validation_dataset=validation_dataset)"
   ]
  },
  {
   "cell_type": "markdown",
   "metadata": {},
   "source": [
    "### Results"
   ]
  },
  {
   "cell_type": "markdown",
   "metadata": {},
   "source": [
    "After 5 epochs, the test set accuracy of this model is 89% on the test set. There's a 2% increase in the accuracy from the `CNNStatic` model. Using pre-trained word embeddings provided more information for every word in the sentence. Next, I will create a 2-channel embedding, and see observe its performance."
   ]
  },
  {
   "cell_type": "markdown",
   "metadata": {},
   "source": [
    "## Model 4: CNNMultiChannel"
   ]
  },
  {
   "cell_type": "markdown",
   "metadata": {},
   "source": [
    "In this model architecture, two channels are used as input to the convolutional layer. Both channels are initialized using the pre-trained word embedding. However, one of those channels will have its parameters learned during training while the other does not."
   ]
  },
  {
   "cell_type": "code",
   "execution_count": 16,
   "metadata": {},
   "outputs": [],
   "source": [
    "class CNNMultiChannel(nn.Module):\n",
    "    def __init__(self, embedding_weights, num_vocab, embedding_dim, channel_out, filter_sizes, num_output, dropout_prob):\n",
    "        super(CNNMultiChannel, self).__init__()\n",
    "        \n",
    "        self.non_static_embedding = nn.Embedding(num_vocab, embedding_dim)\n",
    "        self.non_static_embedding.weight.data.copy_(embedding_weights)\n",
    "        \n",
    "        self.static_embedding = nn.Embedding(num_vocab, embedding_dim)\n",
    "        self.static_embedding.weight.data.copy_(embedding_weights)\n",
    "        self.static_embedding.requires_grad = False\n",
    "        \n",
    "        self.convs = nn.ModuleList([nn.Conv2d(2, channel_out, filter_sizes[i]) for i in range(len(filter_sizes))])\n",
    "        self.fc = nn.Linear(len(filter_sizes) * channel_out, num_output)\n",
    "        self.dropout = nn.Dropout(dropout_prob)\n",
    "    \n",
    "    def forward(self, x):\n",
    "        x = x.t()\n",
    "        \n",
    "        x_non_static_embed = self.non_static_embedding(x).unsqueeze(1)\n",
    "        x_static_embed = self.static_embedding(x).unsqueeze(1)\n",
    "        x_embed = torch.cat((x_non_static_embed, x_static_embed), 1)\n",
    "        x_convs = [F.relu(conv(x_embed)).squeeze(3) for conv in self.convs]\n",
    "        x_pools = [F.max_pool1d(x_conv, x_conv.size(2)).squeeze(2) for x_conv in x_convs]\n",
    "        x_cat = self.dropout(torch.cat(x_pools, 1))\n",
    "        x_fc = self.fc(x_cat).squeeze(1)\n",
    "        \n",
    "        return x_fc"
   ]
  },
  {
   "cell_type": "code",
   "execution_count": 17,
   "metadata": {},
   "outputs": [
    {
     "data": {
      "application/vnd.jupyter.widget-view+json": {
       "model_id": "8f08458946f84b6ab589853fe56ccb06",
       "version_major": 2,
       "version_minor": 0
      },
      "text/plain": [
       "HBox(children=(IntProgress(value=0, max=450), HTML(value='')))"
      ]
     },
     "metadata": {},
     "output_type": "display_data"
    },
    {
     "name": "stdout",
     "output_type": "stream",
     "text": [
      "\n",
      "[Training - Epoch 1] Loss: 0.44\n",
      "[Training - Epoch 1] Accuracy: 0.79\n"
     ]
    },
    {
     "data": {
      "application/vnd.jupyter.widget-view+json": {
       "model_id": "fc0271b2064947fca3d40950d3a89023",
       "version_major": 2,
       "version_minor": 0
      },
      "text/plain": [
       "HBox(children=(IntProgress(value=0, max=50), HTML(value='')))"
      ]
     },
     "metadata": {},
     "output_type": "display_data"
    },
    {
     "name": "stderr",
     "output_type": "stream",
     "text": [
      "/home/paperspace/anaconda3/lib/python3.6/site-packages/torchtext/data/field.py:322: UserWarning: volatile was removed and now has no effect. Use `with torch.no_grad():` instead.\n",
      "  return Variable(arr, volatile=not train)\n"
     ]
    },
    {
     "name": "stdout",
     "output_type": "stream",
     "text": [
      "\n",
      "[Validation - Epoch 1] Loss: 0.31\n",
      "[Validation - Epoch 1] Accuracy: 0.88\n"
     ]
    },
    {
     "data": {
      "application/vnd.jupyter.widget-view+json": {
       "model_id": "87c0eb14cf31428da5111299582720af",
       "version_major": 2,
       "version_minor": 0
      },
      "text/plain": [
       "HBox(children=(IntProgress(value=0, max=450), HTML(value='')))"
      ]
     },
     "metadata": {},
     "output_type": "display_data"
    },
    {
     "name": "stdout",
     "output_type": "stream",
     "text": [
      "\n",
      "[Training - Epoch 2] Loss: 0.27\n",
      "[Training - Epoch 2] Accuracy: 0.89\n"
     ]
    },
    {
     "data": {
      "application/vnd.jupyter.widget-view+json": {
       "model_id": "7dca3339e83c49d197af2ddfb87ad2e8",
       "version_major": 2,
       "version_minor": 0
      },
      "text/plain": [
       "HBox(children=(IntProgress(value=0, max=50), HTML(value='')))"
      ]
     },
     "metadata": {},
     "output_type": "display_data"
    },
    {
     "name": "stdout",
     "output_type": "stream",
     "text": [
      "\n",
      "[Validation - Epoch 2] Loss: 0.26\n",
      "[Validation - Epoch 2] Accuracy: 0.89\n"
     ]
    },
    {
     "data": {
      "application/vnd.jupyter.widget-view+json": {
       "model_id": "14dadd09ee324f84bacfb5111e8ec806",
       "version_major": 2,
       "version_minor": 0
      },
      "text/plain": [
       "HBox(children=(IntProgress(value=0, max=450), HTML(value='')))"
      ]
     },
     "metadata": {},
     "output_type": "display_data"
    },
    {
     "name": "stdout",
     "output_type": "stream",
     "text": [
      "\n",
      "[Training - Epoch 3] Loss: 0.15\n",
      "[Training - Epoch 3] Accuracy: 0.94\n"
     ]
    },
    {
     "data": {
      "application/vnd.jupyter.widget-view+json": {
       "model_id": "be96a86d50d24a11846dfcb9d7896637",
       "version_major": 2,
       "version_minor": 0
      },
      "text/plain": [
       "HBox(children=(IntProgress(value=0, max=50), HTML(value='')))"
      ]
     },
     "metadata": {},
     "output_type": "display_data"
    },
    {
     "name": "stdout",
     "output_type": "stream",
     "text": [
      "\n",
      "[Validation - Epoch 3] Loss: 0.26\n",
      "[Validation - Epoch 3] Accuracy: 0.89\n"
     ]
    },
    {
     "data": {
      "application/vnd.jupyter.widget-view+json": {
       "model_id": "24454d3b3da648039d28c83415bd2b10",
       "version_major": 2,
       "version_minor": 0
      },
      "text/plain": [
       "HBox(children=(IntProgress(value=0, max=450), HTML(value='')))"
      ]
     },
     "metadata": {},
     "output_type": "display_data"
    },
    {
     "name": "stdout",
     "output_type": "stream",
     "text": [
      "\n",
      "[Training - Epoch 4] Loss: 0.08\n",
      "[Training - Epoch 4] Accuracy: 0.97\n"
     ]
    },
    {
     "data": {
      "application/vnd.jupyter.widget-view+json": {
       "model_id": "4748270d81f74b3e9d7c82c155cdeb56",
       "version_major": 2,
       "version_minor": 0
      },
      "text/plain": [
       "HBox(children=(IntProgress(value=0, max=50), HTML(value='')))"
      ]
     },
     "metadata": {},
     "output_type": "display_data"
    },
    {
     "name": "stdout",
     "output_type": "stream",
     "text": [
      "\n",
      "[Validation - Epoch 4] Loss: 0.31\n",
      "[Validation - Epoch 4] Accuracy: 0.89\n"
     ]
    },
    {
     "data": {
      "application/vnd.jupyter.widget-view+json": {
       "model_id": "6a4fe56470d34f63833635e62ba354a9",
       "version_major": 2,
       "version_minor": 0
      },
      "text/plain": [
       "HBox(children=(IntProgress(value=0, max=450), HTML(value='')))"
      ]
     },
     "metadata": {},
     "output_type": "display_data"
    },
    {
     "name": "stdout",
     "output_type": "stream",
     "text": [
      "\n",
      "[Training - Epoch 5] Loss: 0.03\n",
      "[Training - Epoch 5] Accuracy: 0.99\n"
     ]
    },
    {
     "data": {
      "application/vnd.jupyter.widget-view+json": {
       "model_id": "d1ededceeea543a9b3821ee148d238fc",
       "version_major": 2,
       "version_minor": 0
      },
      "text/plain": [
       "HBox(children=(IntProgress(value=0, max=50), HTML(value='')))"
      ]
     },
     "metadata": {},
     "output_type": "display_data"
    },
    {
     "name": "stdout",
     "output_type": "stream",
     "text": [
      "\n",
      "[Validation - Epoch 5] Loss: 0.35\n",
      "[Validation - Epoch 5] Accuracy: 0.90\n"
     ]
    },
    {
     "data": {
      "application/vnd.jupyter.widget-view+json": {
       "model_id": "de5c1ef8ce8247f2b0e72922a2bf202e",
       "version_major": 2,
       "version_minor": 0
      },
      "text/plain": [
       "HBox(children=(IntProgress(value=0, max=500), HTML(value='')))"
      ]
     },
     "metadata": {},
     "output_type": "display_data"
    },
    {
     "name": "stdout",
     "output_type": "stream",
     "text": [
      "\n",
      "[Test] Loss: 0.42\n",
      "[Test] Accuracy: 0.87\n"
     ]
    }
   ],
   "source": [
    "cnn_multi_channel = CNNMultiChannel(*args)\n",
    "\n",
    "loss_function = nn.BCEWithLogitsLoss()\n",
    "optimizer = optim.Adam(cnn_multi_channel.parameters())\n",
    "\n",
    "train_evaluate_model(cnn_multi_channel, loss_function, optimizer, training_dataset, test_dataset, validation_dataset=validation_dataset)"
   ]
  },
  {
   "cell_type": "markdown",
   "metadata": {},
   "source": [
    "### Results"
   ]
  },
  {
   "cell_type": "markdown",
   "metadata": {},
   "source": [
    "After 5 epochs, this model has achieved a test set accuracy of 87%. As in Kim's paper, they have not seen much improvement with the usage of static and non-static channels. The hope is that the static channel will help the non-static channel not deviate too far from the information already present in the pre-trained word embedding, at the same time learn specific relationships of words with regards to movie reviews."
   ]
  },
  {
   "cell_type": "markdown",
   "metadata": {},
   "source": [
    "## Conclusion"
   ]
  },
  {
   "cell_type": "markdown",
   "metadata": {},
   "source": [
    "Going through Kim's paper about the usage of convolutional neural networks in sentiment analysis has shown potential to be used as one of the standard architectures in this field, alongside with recurrent neural networks. Overall, `CNNStatic`, `CNNNonStatic`, and `CNNMultiChannel` has shown similar test set accuracies. More hyperparameter adjustments could possibly increase an already good accuracy for sentiment analysis with IMDB movie reviews dataset.\n",
    "\n",
    "Furthermore, I have learned a lot of using the PyTorch framework to build this (and thanks to [this](https://github.com/bentrevett/pytorch-sentiment-analysis) reference for guiding me through). Lastly, this project has taught me how to write more streamlined functions to train and evaluate models."
   ]
  }
 ],
 "metadata": {
  "kernelspec": {
   "display_name": "Python 3",
   "language": "python",
   "name": "python3"
  },
  "language_info": {
   "codemirror_mode": {
    "name": "ipython",
    "version": 3
   },
   "file_extension": ".py",
   "mimetype": "text/x-python",
   "name": "python",
   "nbconvert_exporter": "python",
   "pygments_lexer": "ipython3",
   "version": "3.6.3"
  }
 },
 "nbformat": 4,
 "nbformat_minor": 2
}
